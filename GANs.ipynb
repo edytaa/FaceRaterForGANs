{
  "nbformat": 4,
  "nbformat_minor": 0,
  "metadata": {
    "accelerator": "GPU",
    "colab": {
      "name": "GANs.ipynb",
      "provenance": [],
      "collapsed_sections": [],
      "include_colab_link": true
    },
    "kernelspec": {
      "display_name": "Python 3",
      "name": "python3"
    },
    "widgets": {
      "application/vnd.jupyter.widget-state+json": {
        "791618fac2b7422db061d750effbd879": {
          "model_module": "@jupyter-widgets/controls",
          "model_name": "ButtonModel",
          "state": {
            "_view_name": "ButtonView",
            "style": "IPY_MODEL_98d3d7ca0a62451d90e78eb53baf206d",
            "_dom_classes": [],
            "description": "Next",
            "_model_name": "ButtonModel",
            "button_style": "",
            "_view_module": "@jupyter-widgets/controls",
            "_model_module_version": "1.5.0",
            "tooltip": "",
            "_view_count": null,
            "disabled": true,
            "_view_module_version": "1.5.0",
            "layout": "IPY_MODEL_6475179ffba449999c21c3c8bc128219",
            "_model_module": "@jupyter-widgets/controls",
            "icon": ""
          }
        },
        "98d3d7ca0a62451d90e78eb53baf206d": {
          "model_module": "@jupyter-widgets/controls",
          "model_name": "ButtonStyleModel",
          "state": {
            "_view_name": "StyleView",
            "_model_name": "ButtonStyleModel",
            "_view_module": "@jupyter-widgets/base",
            "_model_module_version": "1.5.0",
            "_view_count": null,
            "button_color": null,
            "font_weight": "",
            "_view_module_version": "1.2.0",
            "_model_module": "@jupyter-widgets/controls"
          }
        },
        "6475179ffba449999c21c3c8bc128219": {
          "model_module": "@jupyter-widgets/base",
          "model_name": "LayoutModel",
          "state": {
            "_view_name": "LayoutView",
            "grid_template_rows": null,
            "right": null,
            "justify_content": null,
            "_view_module": "@jupyter-widgets/base",
            "overflow": null,
            "_model_module_version": "1.2.0",
            "_view_count": null,
            "flex_flow": null,
            "width": null,
            "min_width": null,
            "border": null,
            "align_items": null,
            "bottom": null,
            "_model_module": "@jupyter-widgets/base",
            "top": null,
            "grid_column": null,
            "overflow_y": null,
            "overflow_x": null,
            "grid_auto_flow": null,
            "grid_area": null,
            "grid_template_columns": null,
            "flex": null,
            "_model_name": "LayoutModel",
            "justify_items": null,
            "grid_row": null,
            "max_height": null,
            "align_content": null,
            "visibility": null,
            "align_self": null,
            "height": null,
            "min_height": null,
            "padding": null,
            "grid_auto_rows": null,
            "grid_gap": null,
            "max_width": null,
            "order": null,
            "_view_module_version": "1.2.0",
            "grid_template_areas": null,
            "object_position": null,
            "object_fit": null,
            "grid_auto_columns": null,
            "margin": null,
            "display": null,
            "left": null
          }
        },
        "a0e0b985db234a058eb47823bc513044": {
          "model_module": "@jupyter-widgets/controls",
          "model_name": "IntSliderModel",
          "state": {
            "_view_name": "IntSliderView",
            "style": "IPY_MODEL_3d5a939e57de4f4b9ee7c0dc0d7d676f",
            "_dom_classes": [],
            "description": "",
            "step": 1,
            "_model_name": "IntSliderModel",
            "orientation": "horizontal",
            "max": 9,
            "_view_module": "@jupyter-widgets/controls",
            "_model_module_version": "1.5.0",
            "value": 3,
            "_view_count": null,
            "disabled": true,
            "_view_module_version": "1.5.0",
            "min": 0,
            "continuous_update": true,
            "readout_format": "d",
            "description_tooltip": null,
            "readout": true,
            "_model_module": "@jupyter-widgets/controls",
            "layout": "IPY_MODEL_2a9d29856c8f4f40abd61b12d10ec83c"
          }
        },
        "3d5a939e57de4f4b9ee7c0dc0d7d676f": {
          "model_module": "@jupyter-widgets/controls",
          "model_name": "SliderStyleModel",
          "state": {
            "_view_name": "StyleView",
            "handle_color": null,
            "_model_name": "SliderStyleModel",
            "description_width": "",
            "_view_module": "@jupyter-widgets/base",
            "_model_module_version": "1.5.0",
            "_view_count": null,
            "_view_module_version": "1.2.0",
            "_model_module": "@jupyter-widgets/controls"
          }
        },
        "2a9d29856c8f4f40abd61b12d10ec83c": {
          "model_module": "@jupyter-widgets/base",
          "model_name": "LayoutModel",
          "state": {
            "_view_name": "LayoutView",
            "grid_template_rows": null,
            "right": null,
            "justify_content": null,
            "_view_module": "@jupyter-widgets/base",
            "overflow": null,
            "_model_module_version": "1.2.0",
            "_view_count": null,
            "flex_flow": null,
            "width": null,
            "min_width": null,
            "border": null,
            "align_items": null,
            "bottom": null,
            "_model_module": "@jupyter-widgets/base",
            "top": null,
            "grid_column": null,
            "overflow_y": null,
            "overflow_x": null,
            "grid_auto_flow": null,
            "grid_area": null,
            "grid_template_columns": null,
            "flex": null,
            "_model_name": "LayoutModel",
            "justify_items": null,
            "grid_row": null,
            "max_height": null,
            "align_content": null,
            "visibility": null,
            "align_self": null,
            "height": null,
            "min_height": null,
            "padding": null,
            "grid_auto_rows": null,
            "grid_gap": null,
            "max_width": null,
            "order": null,
            "_view_module_version": "1.2.0",
            "grid_template_areas": null,
            "object_position": null,
            "object_fit": null,
            "grid_auto_columns": null,
            "margin": null,
            "display": null,
            "left": null
          }
        },
        "489c655262044417ae39810bbecd961a": {
          "model_module": "@jupyter-widgets/output",
          "model_name": "OutputModel",
          "state": {
            "_view_name": "OutputView",
            "msg_id": "",
            "_dom_classes": [],
            "_model_name": "OutputModel",
            "outputs": [
              {
                "output_type": "stream",
                "metadata": {
                  "tags": []
                },
                "text": "Rating of generation 0 finished\n",
                "stream": "stdout"
              }
            ],
            "_view_module": "@jupyter-widgets/output",
            "_model_module_version": "1.0.0",
            "_view_count": null,
            "_view_module_version": "1.0.0",
            "layout": "IPY_MODEL_051159ec17824b8fb6c62d05b5706a61",
            "_model_module": "@jupyter-widgets/output"
          }
        },
        "051159ec17824b8fb6c62d05b5706a61": {
          "model_module": "@jupyter-widgets/base",
          "model_name": "LayoutModel",
          "state": {
            "_view_name": "LayoutView",
            "grid_template_rows": null,
            "right": null,
            "justify_content": null,
            "_view_module": "@jupyter-widgets/base",
            "overflow": null,
            "_model_module_version": "1.2.0",
            "_view_count": null,
            "flex_flow": null,
            "width": null,
            "min_width": null,
            "border": null,
            "align_items": null,
            "bottom": null,
            "_model_module": "@jupyter-widgets/base",
            "top": null,
            "grid_column": null,
            "overflow_y": null,
            "overflow_x": null,
            "grid_auto_flow": null,
            "grid_area": null,
            "grid_template_columns": null,
            "flex": null,
            "_model_name": "LayoutModel",
            "justify_items": null,
            "grid_row": null,
            "max_height": null,
            "align_content": null,
            "visibility": null,
            "align_self": null,
            "height": null,
            "min_height": null,
            "padding": null,
            "grid_auto_rows": null,
            "grid_gap": null,
            "max_width": null,
            "order": null,
            "_view_module_version": "1.2.0",
            "grid_template_areas": null,
            "object_position": null,
            "object_fit": null,
            "grid_auto_columns": null,
            "margin": null,
            "display": null,
            "left": null
          }
        }
      }
    }
  },
  "cells": [
    {
      "cell_type": "markdown",
      "metadata": {
        "id": "view-in-github",
        "colab_type": "text"
      },
      "source": [
        "<a href=\"https://colab.research.google.com/github/edytaa/FaceRaterForGANs/blob/main/GANs.ipynb\" target=\"_parent\"><img src=\"https://colab.research.google.com/assets/colab-badge.svg\" alt=\"Open In Colab\"/></a>"
      ]
    },
    {
      "cell_type": "code",
      "metadata": {
        "colab": {
          "base_uri": "https://localhost:8080/"
        },
        "id": "3PaSZ8a__jRS",
        "outputId": "fd057e68-2b17-439c-ffa6-bae98d0de0d6"
      },
      "source": [
        "!git clone https://github.com/NVlabs/stylegan2.git"
      ],
      "execution_count": null,
      "outputs": [
        {
          "output_type": "stream",
          "text": [
            "fatal: destination path 'stylegan2' already exists and is not an empty directory.\n"
          ],
          "name": "stdout"
        }
      ]
    },
    {
      "cell_type": "code",
      "metadata": {
        "id": "LNfdY8xD5Knt",
        "colab": {
          "base_uri": "https://localhost:8080/"
        },
        "outputId": "35a9b482-6804-48fe-9aeb-346088e13f98"
      },
      "source": [
        "!mkdir /content/stimuli/\n",
        "!mkdir /content/stimuli/images/\n",
        "!mkdir /content/stimuli/latent/"
      ],
      "execution_count": null,
      "outputs": [
        {
          "output_type": "stream",
          "text": [
            "mkdir: cannot create directory ‘/content/stimuli/’: File exists\n",
            "mkdir: cannot create directory ‘/content/stimuli/images/’: File exists\n",
            "mkdir: cannot create directory ‘/content/stimuli/latent/’: File exists\n"
          ],
          "name": "stdout"
        }
      ]
    },
    {
      "cell_type": "code",
      "metadata": {
        "id": "P6v-SSkFHm3r",
        "colab": {
          "base_uri": "https://localhost:8080/"
        },
        "outputId": "e63e0c0d-ae07-45d8-b705-ac85ec56e322"
      },
      "source": [
        "%tensorflow_version 1.x\n",
        "import tensorflow\n",
        "print('Tensorflow version: {}'.format(tensorflow.__version__) )"
      ],
      "execution_count": null,
      "outputs": [
        {
          "output_type": "stream",
          "text": [
            "TensorFlow 1.x selected.\n",
            "Tensorflow version: 1.15.2\n"
          ],
          "name": "stdout"
        }
      ]
    },
    {
      "cell_type": "code",
      "metadata": {
        "id": "Jg6I8fD30uow"
      },
      "source": [
        "import sys\n",
        "import argparse\n",
        "import numpy as np\n",
        "import PIL.Image\n",
        "import re\n",
        "import cv2\n",
        "import random\n",
        "from scipy.io import savemat\n",
        "from sklearn.metrics.pairwise import euclidean_distances\n",
        "\n",
        "path_stylegan = r'/content/stylegan2'\n",
        "sys.path.append(path_stylegan)\n",
        "\n",
        "import dnnlib\n",
        "import dnnlib.tflib as tflib\n",
        "import pretrained_networks\n",
        "from google.colab.patches import cv2_imshow\n",
        "import ipywidgets as widgets\n",
        "from IPython.display import display, clear_output, Image"
      ],
      "execution_count": null,
      "outputs": []
    },
    {
      "cell_type": "code",
      "metadata": {
        "id": "iAnmYHgO2Xk9",
        "colab": {
          "base_uri": "https://localhost:8080/"
        },
        "outputId": "7395ff9d-732b-470a-8b1e-40a356cbcf33"
      },
      "source": [
        "network_pkl = 'gdrive:networks/stylegan2-ffhq-config-f.pkl'\n",
        "truncation_psi = 0.5 #threshold that is used to truncate and resample the latent vectors that are above the threshold\n",
        "\n",
        "# Return 3 networks, but we will be mainly using Gs\n",
        "# _G = Instantaneous snapshot of the generator. Mainly useful for resuming a previous training run.\n",
        "# _D = Instantaneous snapshot of the discriminator. Mainly useful for resuming a previous training run.\n",
        "# Gs = Long-term average of the generator. Yields higher-quality results than the instantaneous snapshot.\n",
        "_G, _D, Gs = pretrained_networks.load_networks(network_pkl)\n",
        "\n",
        "# Get tf noise variables, for the stochastic variation\n",
        "noise_vars = [var for name, var in Gs.components.synthesis.vars.items() if name.startswith('noise')]"
      ],
      "execution_count": null,
      "outputs": [
        {
          "output_type": "stream",
          "text": [
            "Setting up TensorFlow plugin \"fused_bias_act.cu\": Preprocessing... Loading... Done.\n",
            "Setting up TensorFlow plugin \"upfirdn_2d.cu\": Preprocessing... Loading... Done.\n"
          ],
          "name": "stdout"
        }
      ]
    },
    {
      "cell_type": "code",
      "metadata": {
        "id": "F4jIVvaT4HHw"
      },
      "source": [
        "Gs_kwargs = dnnlib.EasyDict()\n",
        "Gs_kwargs.output_transform = dict(func=tflib.convert_images_to_uint8, nchw_to_nhwc=True)\n",
        "Gs_kwargs.randomize_noise = False\n",
        "if truncation_psi is not None:\n",
        "    Gs_kwargs.truncation_psi = truncation_psi"
      ],
      "execution_count": null,
      "outputs": []
    },
    {
      "cell_type": "code",
      "metadata": {
        "id": "0Hh9cJENWwO8"
      },
      "source": [
        "''' \n",
        "allZ: vector nTrl x 512\n",
        "destinDir: \n",
        "noise_vars:\n",
        "Gs:\n",
        "Gs_kwargs\n",
        "'''\n",
        "def genObsImages(allZ_, destinDir_, noise_vars_, Gs_, Gs_kwargs_):\n",
        "    \n",
        "    for tt in range(allZ_.shape[0]):\n",
        "        thsTrlPth = destinDir_+'trl_'+str(tt)+'.png'\n",
        "        print('Generating image for trial %d ...' % tt)\n",
        "        z = allZ_[np.newaxis,tt,:]\n",
        "        tflib.set_vars({var: rnd.randn(*var.shape.as_list()) for var in noise_vars_}) # [height, width]\n",
        "        images = Gs_.run(z, None, **Gs_kwargs_) # [minibatch, height, width, channel]\n",
        "        PIL.Image.fromarray(images[0], 'RGB').save(thsTrlPth)"
      ],
      "execution_count": null,
      "outputs": []
    },
    {
      "cell_type": "code",
      "metadata": {
        "id": "V-VFUT6u0r5j"
      },
      "source": [
        "class RateGeneration:\n",
        "  def __init__(self, imPth_, nTrl_, generation_):\n",
        "      self.button = widgets.Button(description=\"Start!\")\n",
        "      self.output = widgets.Output()\n",
        "      self.slider = widgets.IntSlider(value=5, max=9)\n",
        "      self.button.on_click(self.on_button_clicked)\n",
        "      display(self.button, self.slider, self.output)\n",
        "      self.nTrl = nTrl_\n",
        "      self.imPath = imPth_\n",
        "      self.i = 0\n",
        "      self.generation = generation_\n",
        "      self.responses = []\n",
        "    \n",
        "  def on_button_clicked(self, b):\n",
        "      if self.i <= self.nTrl:\n",
        "        b.description = \"Next\"\n",
        "        self.show(self.i != 0)\n",
        "\n",
        "      if self.i > self.nTrl:\n",
        "        b.disabled = True\n",
        "        self.slider.disabled = True\n",
        "        with self.output:\n",
        "          print(f\"Rating of generation {self.generation} finished\")\n",
        "    \n",
        "  def show(self, get_grading=False): # get grade and show next image\n",
        "      with self.output:\n",
        "        print(f\"Button pressed. Generation {self.generation}. Picture nr {self.i}. Last grade = {self.slider.value}\")\n",
        "        display(Image(f\"{self.imPath}trl_{self.i}.png\"))\n",
        "        if get_grading:\n",
        "          self.responses.append(self.slider.value)\n",
        "        clear_output(wait=True)\n",
        "      self.i += 1"
      ],
      "execution_count": null,
      "outputs": []
    },
    {
      "cell_type": "code",
      "metadata": {
        "id": "NJHgmsQOljJR"
      },
      "source": [
        "# generate and rate one generation\n",
        "def runOneGeneration(nTrl_, nSurv_, nRnd_, gen_, imPth_, noise_vars, \n",
        "                     Gs_, Gs_kwargs_, allZ_):\n",
        "  \n",
        "  global ratings    # needs to be global variable - otherwise widgets don't work correctly \n",
        "  global allZ\n",
        "  ratings = []      # clear old ratings  \n",
        "\n",
        "  # for the first generation, get nTrl initial latent vectors\n",
        "  if gen_ == 0:\n",
        "    allZ = np.random.randn(nTrl_,512)\n",
        "  else: \n",
        "    allZ = allZ_\n",
        "\n",
        "  nInPool = nTrl_ - nSurv_ - nRnd_\n",
        "  \n",
        "  print('Generation '+str(gen_)) # print current generation's number\n",
        "  \n",
        "  # generate images of this generation\n",
        "  genObsImages(allZ, imPth_, noise_vars, Gs_, Gs_kwargs_)\n",
        "  \n",
        "  # show images and capture responses\n",
        "  rate_gen = RateGeneration(imPth_, nTrl_, gen_)\n",
        "  ratings = rate_gen.responses "
      ],
      "execution_count": null,
      "outputs": []
    },
    {
      "cell_type": "code",
      "metadata": {
        "id": "BuxIl5Yd4obX"
      },
      "source": [
        "def softmax(x):\n",
        "    e_x = np.exp(x - np.max(x))\n",
        "    return e_x / e_x.sum()"
      ],
      "execution_count": null,
      "outputs": []
    },
    {
      "cell_type": "code",
      "metadata": {
        "id": "Kwzapee0iyzz"
      },
      "source": [
        "\"\"\"\n",
        "nGen: number of generations in an experiement \n",
        "nTrl: number of trails (images) in one generation \n",
        "nSurv: number of best samples that survives the grading process (and prob goes to next generation)\n",
        "\"\"\" \n",
        "def evaluateOneGeneration(nTrl_, nSurv_, nRnd_, gen_, wFitterParent_, \n",
        "                  basePth_, allZ, ratings_):\n",
        "  \n",
        "  thsResp = ratings_\n",
        "\n",
        "  # save current latents and responses\n",
        "  thsLatentPth = basePth_ + 'stimuli/latent/generation_'+str(gen_)+'.mat'\n",
        "  savemat(thsLatentPth, {\"allZ\": allZ, \"thsResp\": thsResp})\n",
        "        \n",
        "  # transform responses to probabilities (needed for sampling parents)\n",
        "  thsFitness = softmax(thsResp)\n",
        "        \n",
        "  # take latent vectors of nSurvival highest responses\n",
        "  thsIndices = np.argsort(thsFitness)\n",
        "  thsSurv = allZ[thsIndices[-nSurv_:],:]\n",
        "        \n",
        "  # generate recombinations from 2 parent latent vectors of current gen \n",
        "  # w. fitness proportional to probability of being parent\n",
        "  # parent with higher fitness contributes more\n",
        "  thsPool = np.zeros([nInPool,allZ.shape[1]])\n",
        "\n",
        "  for rr in range(nInPool):\n",
        "    thsParents = np.random.choice(nTrl_, 2, False, thsFitness)\n",
        "    \n",
        "    if thsFitness[thsParents[0]] > thsFitness[thsParents[1]]:\n",
        "      contrib0 = wFitterParent_\n",
        "      contrib1 = 1 - wFitterParent_\n",
        "    elif thsFitness[thsParents[0]] < thsFitness[thsParents[1]]:\n",
        "      contrib0 = 1 - wFitterParent_\n",
        "      contrib1 = wFitterParent_\n",
        "    elif thsFitness[thsParents[0]] == thsFitness[thsParents[1]]:\n",
        "      contrib0 = .5   \n",
        "      contrib1 = .5\n",
        "            \n",
        "    thsPool[rr,:] = allZ[thsParents[0],:] * contrib0 + allZ[thsParents[1],:] * contrib1\n",
        "\n",
        "  # each latent dimension of children in recombined pool has some probability of mutation\n",
        "  toEdit = np.random.choice([0, 1], (nInPool,thsPool.shape[1]), True, [1-mutP, mutP]) # mutP global\n",
        "  thsEdits = np.random.randn(np.sum(toEdit)) * mutAmp # mutAmp global \n",
        "  thsPool[np.nonzero(toEdit)] = thsPool[np.nonzero(toEdit)] + thsEdits\n",
        "        \n",
        "  # add some random faces to the mix\n",
        "  thsRnd = np.random.randn(nRnd_, 512)\n",
        "    \n",
        "  # combine direct survivals and recombined / mutated pool\n",
        "  allZ = np.concatenate((thsSurv, thsPool, thsRnd),axis=0)\n",
        "  # shuffle order of trials\n",
        "  np.random.shuffle(allZ)"
      ],
      "execution_count": null,
      "outputs": []
    },
    {
      "cell_type": "code",
      "metadata": {
        "id": "DbpF8rtA_ecz"
      },
      "source": [
        "# genetic algorithm\n",
        "nGen = 2\n",
        "nTrl = 3\n",
        "nSurv = 1 # number of best samples that survives the grading process (and prob goes to next generation)\n",
        "nRnd = 1\n",
        "nInPool = nTrl-nSurv-nRnd\n",
        "wFitterParent = .75\n",
        "mutAmp = .4\n",
        "mutP = .3"
      ],
      "execution_count": null,
      "outputs": []
    },
    {
      "cell_type": "code",
      "metadata": {
        "id": "NDsdiOCcthHu"
      },
      "source": [
        "basePth = '/content/'\n",
        "imPth = basePth + 'stimuli/images/'\n",
        "seed = 1\n",
        "rnd = np.random.RandomState(seed)"
      ],
      "execution_count": null,
      "outputs": []
    },
    {
      "cell_type": "code",
      "metadata": {
        "colab": {
          "base_uri": "https://localhost:8080/",
          "height": 166,
          "referenced_widgets": [
            "791618fac2b7422db061d750effbd879",
            "98d3d7ca0a62451d90e78eb53baf206d",
            "6475179ffba449999c21c3c8bc128219",
            "a0e0b985db234a058eb47823bc513044",
            "3d5a939e57de4f4b9ee7c0dc0d7d676f",
            "2a9d29856c8f4f40abd61b12d10ec83c",
            "489c655262044417ae39810bbecd961a",
            "051159ec17824b8fb6c62d05b5706a61"
          ]
        },
        "id": "Xd5J7NGpu1Xo",
        "outputId": "f9033f69-0b5f-492c-e38c-11b994629b1d"
      },
      "source": [
        "# create and rate generation 0\n",
        "runOneGeneration(nTrl, nSurv, nRnd, 0, imPth, noise_vars, Gs, Gs_kwargs, allZ_= None)"
      ],
      "execution_count": null,
      "outputs": [
        {
          "output_type": "stream",
          "text": [
            "Generation 0\n",
            "Generating image for trial 0 ...\n",
            "Generating image for trial 1 ...\n",
            "Generating image for trial 2 ...\n"
          ],
          "name": "stdout"
        },
        {
          "output_type": "display_data",
          "data": {
            "application/vnd.jupyter.widget-view+json": {
              "model_id": "791618fac2b7422db061d750effbd879",
              "version_minor": 0,
              "version_major": 2
            },
            "text/plain": [
              "Button(description='Start!', style=ButtonStyle())"
            ]
          },
          "metadata": {
            "tags": []
          }
        },
        {
          "output_type": "display_data",
          "data": {
            "application/vnd.jupyter.widget-view+json": {
              "model_id": "a0e0b985db234a058eb47823bc513044",
              "version_minor": 0,
              "version_major": 2
            },
            "text/plain": [
              "IntSlider(value=5, max=9)"
            ]
          },
          "metadata": {
            "tags": []
          }
        },
        {
          "output_type": "display_data",
          "data": {
            "application/vnd.jupyter.widget-view+json": {
              "model_id": "489c655262044417ae39810bbecd961a",
              "version_minor": 0,
              "version_major": 2
            },
            "text/plain": [
              "Output()"
            ]
          },
          "metadata": {
            "tags": []
          }
        }
      ]
    },
    {
      "cell_type": "code",
      "metadata": {
        "id": "LslPO1cyu1Ro"
      },
      "source": [
        "evaluateOneGeneration(nTrl, nSurv, nRnd, 0, wFitterParent, basePth, allZ, ratings)"
      ],
      "execution_count": null,
      "outputs": []
    },
    {
      "cell_type": "markdown",
      "metadata": {
        "id": "4S6bi9RU06o5"
      },
      "source": [
        "# New section"
      ]
    }
  ]
}