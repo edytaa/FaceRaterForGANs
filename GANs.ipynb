{
  "nbformat": 4,
  "nbformat_minor": 0,
  "metadata": {
    "accelerator": "GPU",
    "colab": {
      "name": "GANs.ipynb",
      "provenance": [],
      "collapsed_sections": [],
      "toc_visible": true,
      "include_colab_link": true
    },
    "kernelspec": {
      "display_name": "Python 3",
      "name": "python3"
    },
    "widgets": {
      "application/vnd.jupyter.widget-state+json": {
        "f88df08a8321407bb4d84f848c381d51": {
          "model_module": "@jupyter-widgets/controls",
          "model_name": "ButtonModel",
          "state": {
            "_view_name": "ButtonView",
            "style": "IPY_MODEL_4d8ae3e396b14a14aadc8e80cce372d1",
            "_dom_classes": [],
            "description": "Start next gen",
            "_model_name": "ButtonModel",
            "button_style": "",
            "_view_module": "@jupyter-widgets/controls",
            "_model_module_version": "1.5.0",
            "tooltip": "",
            "_view_count": null,
            "disabled": false,
            "_view_module_version": "1.5.0",
            "layout": "IPY_MODEL_c65115114c5845e0be47efe0aa3a66f5",
            "_model_module": "@jupyter-widgets/controls",
            "icon": ""
          }
        },
        "4d8ae3e396b14a14aadc8e80cce372d1": {
          "model_module": "@jupyter-widgets/controls",
          "model_name": "ButtonStyleModel",
          "state": {
            "_view_name": "StyleView",
            "_model_name": "ButtonStyleModel",
            "_view_module": "@jupyter-widgets/base",
            "_model_module_version": "1.5.0",
            "_view_count": null,
            "button_color": null,
            "font_weight": "",
            "_view_module_version": "1.2.0",
            "_model_module": "@jupyter-widgets/controls"
          }
        },
        "c65115114c5845e0be47efe0aa3a66f5": {
          "model_module": "@jupyter-widgets/base",
          "model_name": "LayoutModel",
          "state": {
            "_view_name": "LayoutView",
            "grid_template_rows": null,
            "right": null,
            "justify_content": null,
            "_view_module": "@jupyter-widgets/base",
            "overflow": null,
            "_model_module_version": "1.2.0",
            "_view_count": null,
            "flex_flow": null,
            "width": null,
            "min_width": null,
            "border": null,
            "align_items": null,
            "bottom": null,
            "_model_module": "@jupyter-widgets/base",
            "top": null,
            "grid_column": null,
            "overflow_y": null,
            "overflow_x": null,
            "grid_auto_flow": null,
            "grid_area": null,
            "grid_template_columns": null,
            "flex": null,
            "_model_name": "LayoutModel",
            "justify_items": null,
            "grid_row": null,
            "max_height": null,
            "align_content": null,
            "visibility": null,
            "align_self": null,
            "height": null,
            "min_height": null,
            "padding": null,
            "grid_auto_rows": null,
            "grid_gap": null,
            "max_width": null,
            "order": null,
            "_view_module_version": "1.2.0",
            "grid_template_areas": null,
            "object_position": null,
            "object_fit": null,
            "grid_auto_columns": null,
            "margin": null,
            "display": null,
            "left": null
          }
        },
        "81fa0fccecf549eb990e07ee498ea9d4": {
          "model_module": "@jupyter-widgets/controls",
          "model_name": "IntSliderModel",
          "state": {
            "_view_name": "IntSliderView",
            "style": "IPY_MODEL_9c8835a36b3d469c93e047bc09d594f1",
            "_dom_classes": [],
            "description": "",
            "step": 1,
            "_model_name": "IntSliderModel",
            "orientation": "horizontal",
            "max": 9,
            "_view_module": "@jupyter-widgets/controls",
            "_model_module_version": "1.5.0",
            "value": 7,
            "_view_count": null,
            "disabled": false,
            "_view_module_version": "1.5.0",
            "min": 0,
            "continuous_update": true,
            "readout_format": "d",
            "description_tooltip": null,
            "readout": true,
            "_model_module": "@jupyter-widgets/controls",
            "layout": "IPY_MODEL_97d8e11665c14257b34eb36f192c6d68"
          }
        },
        "9c8835a36b3d469c93e047bc09d594f1": {
          "model_module": "@jupyter-widgets/controls",
          "model_name": "SliderStyleModel",
          "state": {
            "_view_name": "StyleView",
            "handle_color": null,
            "_model_name": "SliderStyleModel",
            "description_width": "",
            "_view_module": "@jupyter-widgets/base",
            "_model_module_version": "1.5.0",
            "_view_count": null,
            "_view_module_version": "1.2.0",
            "_model_module": "@jupyter-widgets/controls"
          }
        },
        "97d8e11665c14257b34eb36f192c6d68": {
          "model_module": "@jupyter-widgets/base",
          "model_name": "LayoutModel",
          "state": {
            "_view_name": "LayoutView",
            "grid_template_rows": null,
            "right": null,
            "justify_content": null,
            "_view_module": "@jupyter-widgets/base",
            "overflow": null,
            "_model_module_version": "1.2.0",
            "_view_count": null,
            "flex_flow": null,
            "width": null,
            "min_width": null,
            "border": null,
            "align_items": null,
            "bottom": null,
            "_model_module": "@jupyter-widgets/base",
            "top": null,
            "grid_column": null,
            "overflow_y": null,
            "overflow_x": null,
            "grid_auto_flow": null,
            "grid_area": null,
            "grid_template_columns": null,
            "flex": null,
            "_model_name": "LayoutModel",
            "justify_items": null,
            "grid_row": null,
            "max_height": null,
            "align_content": null,
            "visibility": null,
            "align_self": null,
            "height": null,
            "min_height": null,
            "padding": null,
            "grid_auto_rows": null,
            "grid_gap": null,
            "max_width": null,
            "order": null,
            "_view_module_version": "1.2.0",
            "grid_template_areas": null,
            "object_position": null,
            "object_fit": null,
            "grid_auto_columns": null,
            "margin": null,
            "display": null,
            "left": null
          }
        },
        "8c9e4275ad194703ae0e27d9052858ba": {
          "model_module": "@jupyter-widgets/output",
          "model_name": "OutputModel",
          "state": {
            "_view_name": "OutputView",
            "msg_id": "",
            "_dom_classes": [],
            "_model_name": "OutputModel",
            "outputs": [
              {
                "output_type": "stream",
                "metadata": {
                  "tags": []
                },
                "text": "Rating of generation 0 finished\nStart generating new images...... please wait......\n responses len: 3 , args len: 8\nGenerating image for trial 0 ...\n",
                "stream": "stdout"
              },
              {
                "output_type": "stream",
                "metadata": {
                  "tags": []
                },
                "text": "Generating image for trial 1 ...\n",
                "stream": "stdout"
              },
              {
                "output_type": "stream",
                "metadata": {
                  "tags": []
                },
                "text": "Generating image for trial 2 ...\n",
                "stream": "stdout"
              },
              {
                "output_type": "stream",
                "metadata": {
                  "tags": []
                },
                "text": "New images generated\nStarting new generation (gen: 1)\n",
                "stream": "stdout"
              }
            ],
            "_view_module": "@jupyter-widgets/output",
            "_model_module_version": "1.0.0",
            "_view_count": null,
            "_view_module_version": "1.0.0",
            "layout": "IPY_MODEL_8b9e1c2611f24cf7ba59ec5288339ee8",
            "_model_module": "@jupyter-widgets/output"
          }
        },
        "8b9e1c2611f24cf7ba59ec5288339ee8": {
          "model_module": "@jupyter-widgets/base",
          "model_name": "LayoutModel",
          "state": {
            "_view_name": "LayoutView",
            "grid_template_rows": null,
            "right": null,
            "justify_content": null,
            "_view_module": "@jupyter-widgets/base",
            "overflow": null,
            "_model_module_version": "1.2.0",
            "_view_count": null,
            "flex_flow": null,
            "width": null,
            "min_width": null,
            "border": null,
            "align_items": null,
            "bottom": null,
            "_model_module": "@jupyter-widgets/base",
            "top": null,
            "grid_column": null,
            "overflow_y": null,
            "overflow_x": null,
            "grid_auto_flow": null,
            "grid_area": null,
            "grid_template_columns": null,
            "flex": null,
            "_model_name": "LayoutModel",
            "justify_items": null,
            "grid_row": null,
            "max_height": null,
            "align_content": null,
            "visibility": null,
            "align_self": null,
            "height": null,
            "min_height": null,
            "padding": null,
            "grid_auto_rows": null,
            "grid_gap": null,
            "max_width": null,
            "order": null,
            "_view_module_version": "1.2.0",
            "grid_template_areas": null,
            "object_position": null,
            "object_fit": null,
            "grid_auto_columns": null,
            "margin": null,
            "display": null,
            "left": null
          }
        },
        "ebb1b28f054444d28a456ef4c66b75b5": {
          "model_module": "@jupyter-widgets/controls",
          "model_name": "ButtonModel",
          "state": {
            "_view_name": "ButtonView",
            "style": "IPY_MODEL_ca3603e8dafd477cb05747e0772e4d36",
            "_dom_classes": [],
            "description": "Next",
            "_model_name": "ButtonModel",
            "button_style": "",
            "_view_module": "@jupyter-widgets/controls",
            "_model_module_version": "1.5.0",
            "tooltip": "",
            "_view_count": null,
            "disabled": true,
            "_view_module_version": "1.5.0",
            "layout": "IPY_MODEL_c441f52b7fcd4680aecd8ef0acc4162e",
            "_model_module": "@jupyter-widgets/controls",
            "icon": ""
          }
        },
        "ca3603e8dafd477cb05747e0772e4d36": {
          "model_module": "@jupyter-widgets/controls",
          "model_name": "ButtonStyleModel",
          "state": {
            "_view_name": "StyleView",
            "_model_name": "ButtonStyleModel",
            "_view_module": "@jupyter-widgets/base",
            "_model_module_version": "1.5.0",
            "_view_count": null,
            "button_color": null,
            "font_weight": "",
            "_view_module_version": "1.2.0",
            "_model_module": "@jupyter-widgets/controls"
          }
        },
        "c441f52b7fcd4680aecd8ef0acc4162e": {
          "model_module": "@jupyter-widgets/base",
          "model_name": "LayoutModel",
          "state": {
            "_view_name": "LayoutView",
            "grid_template_rows": null,
            "right": null,
            "justify_content": null,
            "_view_module": "@jupyter-widgets/base",
            "overflow": null,
            "_model_module_version": "1.2.0",
            "_view_count": null,
            "flex_flow": null,
            "width": null,
            "min_width": null,
            "border": null,
            "align_items": null,
            "bottom": null,
            "_model_module": "@jupyter-widgets/base",
            "top": null,
            "grid_column": null,
            "overflow_y": null,
            "overflow_x": null,
            "grid_auto_flow": null,
            "grid_area": null,
            "grid_template_columns": null,
            "flex": null,
            "_model_name": "LayoutModel",
            "justify_items": null,
            "grid_row": null,
            "max_height": null,
            "align_content": null,
            "visibility": null,
            "align_self": null,
            "height": null,
            "min_height": null,
            "padding": null,
            "grid_auto_rows": null,
            "grid_gap": null,
            "max_width": null,
            "order": null,
            "_view_module_version": "1.2.0",
            "grid_template_areas": null,
            "object_position": null,
            "object_fit": null,
            "grid_auto_columns": null,
            "margin": null,
            "display": null,
            "left": null
          }
        },
        "ad6ab4c1278d4d0fb47e60223b630eba": {
          "model_module": "@jupyter-widgets/controls",
          "model_name": "IntSliderModel",
          "state": {
            "_view_name": "IntSliderView",
            "style": "IPY_MODEL_6c30babb157845f9b91a483579761edd",
            "_dom_classes": [],
            "description": "",
            "step": 1,
            "_model_name": "IntSliderModel",
            "orientation": "horizontal",
            "max": 9,
            "_view_module": "@jupyter-widgets/controls",
            "_model_module_version": "1.5.0",
            "value": 8,
            "_view_count": null,
            "disabled": true,
            "_view_module_version": "1.5.0",
            "min": 0,
            "continuous_update": true,
            "readout_format": "d",
            "description_tooltip": null,
            "readout": true,
            "_model_module": "@jupyter-widgets/controls",
            "layout": "IPY_MODEL_d0226da3ae554631a251967b1e344684"
          }
        },
        "6c30babb157845f9b91a483579761edd": {
          "model_module": "@jupyter-widgets/controls",
          "model_name": "SliderStyleModel",
          "state": {
            "_view_name": "StyleView",
            "handle_color": null,
            "_model_name": "SliderStyleModel",
            "description_width": "",
            "_view_module": "@jupyter-widgets/base",
            "_model_module_version": "1.5.0",
            "_view_count": null,
            "_view_module_version": "1.2.0",
            "_model_module": "@jupyter-widgets/controls"
          }
        },
        "d0226da3ae554631a251967b1e344684": {
          "model_module": "@jupyter-widgets/base",
          "model_name": "LayoutModel",
          "state": {
            "_view_name": "LayoutView",
            "grid_template_rows": null,
            "right": null,
            "justify_content": null,
            "_view_module": "@jupyter-widgets/base",
            "overflow": null,
            "_model_module_version": "1.2.0",
            "_view_count": null,
            "flex_flow": null,
            "width": null,
            "min_width": null,
            "border": null,
            "align_items": null,
            "bottom": null,
            "_model_module": "@jupyter-widgets/base",
            "top": null,
            "grid_column": null,
            "overflow_y": null,
            "overflow_x": null,
            "grid_auto_flow": null,
            "grid_area": null,
            "grid_template_columns": null,
            "flex": null,
            "_model_name": "LayoutModel",
            "justify_items": null,
            "grid_row": null,
            "max_height": null,
            "align_content": null,
            "visibility": null,
            "align_self": null,
            "height": null,
            "min_height": null,
            "padding": null,
            "grid_auto_rows": null,
            "grid_gap": null,
            "max_width": null,
            "order": null,
            "_view_module_version": "1.2.0",
            "grid_template_areas": null,
            "object_position": null,
            "object_fit": null,
            "grid_auto_columns": null,
            "margin": null,
            "display": null,
            "left": null
          }
        },
        "7c9b4ee1f977482c971446cc23d3ce91": {
          "model_module": "@jupyter-widgets/output",
          "model_name": "OutputModel",
          "state": {
            "_view_name": "OutputView",
            "msg_id": "",
            "_dom_classes": [],
            "_model_name": "OutputModel",
            "outputs": [
              {
                "output_type": "stream",
                "metadata": {
                  "tags": []
                },
                "text": "Rating of generation 0 finished\n",
                "stream": "stdout"
              }
            ],
            "_view_module": "@jupyter-widgets/output",
            "_model_module_version": "1.0.0",
            "_view_count": null,
            "_view_module_version": "1.0.0",
            "layout": "IPY_MODEL_2652ed29c367436c877a20ada1a90a5f",
            "_model_module": "@jupyter-widgets/output"
          }
        },
        "2652ed29c367436c877a20ada1a90a5f": {
          "model_module": "@jupyter-widgets/base",
          "model_name": "LayoutModel",
          "state": {
            "_view_name": "LayoutView",
            "grid_template_rows": null,
            "right": null,
            "justify_content": null,
            "_view_module": "@jupyter-widgets/base",
            "overflow": null,
            "_model_module_version": "1.2.0",
            "_view_count": null,
            "flex_flow": null,
            "width": null,
            "min_width": null,
            "border": null,
            "align_items": null,
            "bottom": null,
            "_model_module": "@jupyter-widgets/base",
            "top": null,
            "grid_column": null,
            "overflow_y": null,
            "overflow_x": null,
            "grid_auto_flow": null,
            "grid_area": null,
            "grid_template_columns": null,
            "flex": null,
            "_model_name": "LayoutModel",
            "justify_items": null,
            "grid_row": null,
            "max_height": null,
            "align_content": null,
            "visibility": null,
            "align_self": null,
            "height": null,
            "min_height": null,
            "padding": null,
            "grid_auto_rows": null,
            "grid_gap": null,
            "max_width": null,
            "order": null,
            "_view_module_version": "1.2.0",
            "grid_template_areas": null,
            "object_position": null,
            "object_fit": null,
            "grid_auto_columns": null,
            "margin": null,
            "display": null,
            "left": null
          }
        }
      }
    }
  },
  "cells": [
    {
      "cell_type": "markdown",
      "metadata": {
        "id": "view-in-github",
        "colab_type": "text"
      },
      "source": [
        "<a href=\"https://colab.research.google.com/github/edytaa/FaceRaterForGANs/blob/dev%2Fmultiple_generations/GANs.ipynb\" target=\"_parent\"><img src=\"https://colab.research.google.com/assets/colab-badge.svg\" alt=\"Open In Colab\"/></a>"
      ]
    },
    {
      "cell_type": "code",
      "metadata": {
        "colab": {
          "base_uri": "https://localhost:8080/"
        },
        "id": "3PaSZ8a__jRS",
        "outputId": "fd057e68-2b17-439c-ffa6-bae98d0de0d6"
      },
      "source": [
        "!git clone https://github.com/NVlabs/stylegan2.git"
      ],
      "execution_count": null,
      "outputs": [
        {
          "output_type": "stream",
          "text": [
            "fatal: destination path 'stylegan2' already exists and is not an empty directory.\n"
          ],
          "name": "stdout"
        }
      ]
    },
    {
      "cell_type": "code",
      "metadata": {
        "id": "LNfdY8xD5Knt",
        "colab": {
          "base_uri": "https://localhost:8080/"
        },
        "outputId": "35a9b482-6804-48fe-9aeb-346088e13f98"
      },
      "source": [
        "!mkdir /content/stimuli/\n",
        "!mkdir /content/stimuli/images/\n",
        "!mkdir /content/stimuli/latent/"
      ],
      "execution_count": null,
      "outputs": [
        {
          "output_type": "stream",
          "text": [
            "mkdir: cannot create directory ‘/content/stimuli/’: File exists\n",
            "mkdir: cannot create directory ‘/content/stimuli/images/’: File exists\n",
            "mkdir: cannot create directory ‘/content/stimuli/latent/’: File exists\n"
          ],
          "name": "stdout"
        }
      ]
    },
    {
      "cell_type": "code",
      "metadata": {
        "id": "P6v-SSkFHm3r",
        "colab": {
          "base_uri": "https://localhost:8080/"
        },
        "outputId": "e63e0c0d-ae07-45d8-b705-ac85ec56e322"
      },
      "source": [
        "%tensorflow_version 1.x\n",
        "import tensorflow\n",
        "print('Tensorflow version: {}'.format(tensorflow.__version__) )"
      ],
      "execution_count": null,
      "outputs": [
        {
          "output_type": "stream",
          "text": [
            "TensorFlow 1.x selected.\n",
            "Tensorflow version: 1.15.2\n"
          ],
          "name": "stdout"
        }
      ]
    },
    {
      "cell_type": "code",
      "metadata": {
        "id": "Jg6I8fD30uow"
      },
      "source": [
        "import sys\n",
        "import argparse\n",
        "import numpy as np\n",
        "import PIL.Image\n",
        "import re\n",
        "import cv2\n",
        "import random\n",
        "from scipy.io import savemat\n",
        "from sklearn.metrics.pairwise import euclidean_distances\n",
        "\n",
        "path_stylegan = r'/content/stylegan2'\n",
        "sys.path.append(path_stylegan)\n",
        "\n",
        "import dnnlib\n",
        "import dnnlib.tflib as tflib\n",
        "import pretrained_networks\n",
        "from google.colab.patches import cv2_imshow\n",
        "import ipywidgets as widgets\n",
        "from IPython.display import display, clear_output, Image"
      ],
      "execution_count": null,
      "outputs": []
    },
    {
      "cell_type": "code",
      "metadata": {
        "id": "iAnmYHgO2Xk9",
        "colab": {
          "base_uri": "https://localhost:8080/"
        },
        "outputId": "7395ff9d-732b-470a-8b1e-40a356cbcf33"
      },
      "source": [
        "network_pkl = 'gdrive:networks/stylegan2-ffhq-config-f.pkl'\n",
        "truncation_psi = 0.5 #threshold that is used to truncate and resample the latent vectors that are above the threshold\n",
        "\n",
        "# Return 3 networks, but we will be mainly using Gs\n",
        "# _G = Instantaneous snapshot of the generator. Mainly useful for resuming a previous training run.\n",
        "# _D = Instantaneous snapshot of the discriminator. Mainly useful for resuming a previous training run.\n",
        "# Gs = Long-term average of the generator. Yields higher-quality results than the instantaneous snapshot.\n",
        "_G, _D, Gs = pretrained_networks.load_networks(network_pkl)\n",
        "\n",
        "# Get tf noise variables, for the stochastic variation\n",
        "noise_vars = [var for name, var in Gs.components.synthesis.vars.items() if name.startswith('noise')]"
      ],
      "execution_count": null,
      "outputs": [
        {
          "output_type": "stream",
          "text": [
            "Setting up TensorFlow plugin \"fused_bias_act.cu\": Preprocessing... Loading... Done.\n",
            "Setting up TensorFlow plugin \"upfirdn_2d.cu\": Preprocessing... Loading... Done.\n"
          ],
          "name": "stdout"
        }
      ]
    },
    {
      "cell_type": "code",
      "metadata": {
        "id": "F4jIVvaT4HHw"
      },
      "source": [
        "Gs_kwargs = dnnlib.EasyDict()\n",
        "Gs_kwargs.output_transform = dict(func=tflib.convert_images_to_uint8, nchw_to_nhwc=True)\n",
        "Gs_kwargs.randomize_noise = False\n",
        "if truncation_psi is not None:\n",
        "    Gs_kwargs.truncation_psi = truncation_psi"
      ],
      "execution_count": null,
      "outputs": []
    },
    {
      "cell_type": "code",
      "metadata": {
        "id": "0Hh9cJENWwO8"
      },
      "source": [
        "''' \n",
        "allZ: vector nTrl x 512\n",
        "destinDir: \n",
        "noise_vars:\n",
        "Gs:\n",
        "Gs_kwargs\n",
        "'''\n",
        "def genObsImages(allZ_, destinDir_, noise_vars_, Gs_, Gs_kwargs_):\n",
        "    \n",
        "    for tt in range(allZ_.shape[0]):\n",
        "        thsTrlPth = destinDir_+'trl_'+str(tt)+'.png'\n",
        "        print('Generating image for trial %d ...' % tt)\n",
        "        z = allZ_[np.newaxis,tt,:]\n",
        "        tflib.set_vars({var: rnd.randn(*var.shape.as_list()) for var in noise_vars_}) # [height, width]\n",
        "        images = Gs_.run(z, None, **Gs_kwargs_) # [minibatch, height, width, channel]\n",
        "        PIL.Image.fromarray(images[0], 'RGB').save(thsTrlPth)"
      ],
      "execution_count": null,
      "outputs": []
    },
    {
      "cell_type": "code",
      "metadata": {
        "id": "V-VFUT6u0r5j"
      },
      "source": [
        "class RateGeneration:\n",
        "  def __init__(self, imPth_, nTrl_, generation_, args_eval, args_gen):\n",
        "      self.button = widgets.Button(description=\"Start!\")\n",
        "      self.output = widgets.Output()\n",
        "      self.slider = widgets.IntSlider(value=5, max=9)\n",
        "      self.button.on_click(self.on_button_clicked)\n",
        "      display(self.button, self.slider, self.output)\n",
        "      self.nTrl = nTrl_\n",
        "      self.imPath = imPth_\n",
        "      self.i = 0\n",
        "      self.generation = generation_\n",
        "      self.responses = []\n",
        "      self.args_eval = args_eval\n",
        "      self.args_gen = args_gen\n",
        "    \n",
        "  def on_button_clicked(self, b):\n",
        "      if self.i <= self.nTrl:\n",
        "        b.description = \"Next\"\n",
        "        self.show(self.i != 0)\n",
        "\n",
        "      if self.i > self.nTrl:\n",
        "        b.disabled = True\n",
        "        self.slider.disabled = True\n",
        "        with self.output:\n",
        "          print(f\"Rating of generation {self.generation} finished\")\n",
        "          print('Start generating new images...... please wait......')\n",
        "          global allZ\n",
        "          args = (*self.args_eval, allZ, self.responses)\n",
        "          print(f' responses len: {len(self.responses)} , args len: {len(args)}')\n",
        "          allZ = evaluateOneGeneration(*args)\n",
        "          args = (allZ, *self.args_gen)\n",
        "          genObsImages(*args)\n",
        "          print('New images generated')\n",
        "          self.generation += 1\n",
        "          print(f'Starting new generation (gen: {self.generation})')\n",
        "          self.i = 0\n",
        "          self.responses = []\n",
        "        b.description = \"Start next gen\"\n",
        "        self.slider.disabled = False\n",
        "        b.disabled = False\n",
        "\n",
        "    \n",
        "  def show(self, get_grading=False): # get grade and show next image\n",
        "      with self.output:\n",
        "        print(f\"Button pressed. Generation {self.generation}. \\\n",
        "          Picture nr {self.i}. Last grade = {self.slider.value}\")\n",
        "        display(Image(f\"{self.imPath}trl_{self.i}.png\"))\n",
        "        if get_grading:\n",
        "          self.responses.append(self.slider.value)\n",
        "        clear_output(wait=True)\n",
        "      self.i += 1"
      ],
      "execution_count": 63,
      "outputs": []
    },
    {
      "cell_type": "code",
      "metadata": {
        "id": "NJHgmsQOljJR"
      },
      "source": [
        "# generate and rate one generation\n",
        "def runOneGeneration(nTrl_, nSurv_, nRnd_, gen_, imPth_, noise_vars, \n",
        "                     Gs_, Gs_kwargs_, allZ_, num_of_gen_to_run=1, wFitterParent_ = None, basePth_=None):\n",
        "  \n",
        "  global ratings    # needs to be global variable - otherwise widgets don't work correctly \n",
        "  global allZ\n",
        "\n",
        "  eval_callback_args = (nTrl_, nSurv_, nRnd_, gen_, wFitterParent_, basePth_)\n",
        "  gen_callback_args = (imPth_, noise_vars, Gs_, Gs_kwargs_)\n",
        "\n",
        "  ratings = []      # clear old ratings  \n",
        "  # for the first generation, get nTrl initial latent vectors\n",
        "  if gen_ == 0:\n",
        "    allZ = np.random.randn(nTrl_,512)\n",
        "  else: \n",
        "    allZ = allZ_\n",
        "\n",
        "  nInPool = nTrl_ - nSurv_ - nRnd_\n",
        "  \n",
        "  print('Generation '+str(gen_)) # print current generation's number\n",
        "  \n",
        "  # generate images of this generation\n",
        "  genObsImages(allZ, imPth_, noise_vars, Gs_, Gs_kwargs_)\n",
        "  \n",
        "  # show images and capture responses\n",
        "  rate_gen = RateGeneration(imPth_, nTrl_, gen_, eval_callback_args, gen_callback_args)\n",
        "  ratings = rate_gen.responses "
      ],
      "execution_count": 64,
      "outputs": []
    },
    {
      "cell_type": "code",
      "metadata": {
        "id": "BuxIl5Yd4obX"
      },
      "source": [
        "def softmax(x):\n",
        "    e_x = np.exp(x - np.max(x))\n",
        "    return e_x / e_x.sum()"
      ],
      "execution_count": 42,
      "outputs": []
    },
    {
      "cell_type": "code",
      "metadata": {
        "id": "Kwzapee0iyzz"
      },
      "source": [
        "\"\"\"\n",
        "nGen: number of generations in an experiement \n",
        "nTrl: number of trails (images) in one generation \n",
        "nSurv: number of best samples that survives the grading process (and prob goes to next generation)\n",
        "\"\"\" \n",
        "def evaluateOneGeneration(nTrl_, nSurv_, nRnd_, gen_, wFitterParent_, \n",
        "                  basePth_, allZ, ratings_):\n",
        "  \n",
        "  thsResp = ratings_\n",
        "\n",
        "  # save current latents and responses\n",
        "  thsLatentPth = basePth_ + 'stimuli/latent/generation_'+str(gen_)+'.mat'\n",
        "  savemat(thsLatentPth, {\"allZ\": allZ, \"thsResp\": thsResp})\n",
        "        \n",
        "  # transform responses to probabilities (needed for sampling parents)\n",
        "  thsFitness = softmax(thsResp)\n",
        "        \n",
        "  # take latent vectors of nSurvival highest responses\n",
        "  thsIndices = np.argsort(thsFitness)\n",
        "  thsSurv = allZ[thsIndices[-nSurv_:],:]\n",
        "        \n",
        "  # generate recombinations from 2 parent latent vectors of current gen \n",
        "  # w. fitness proportional to probability of being parent\n",
        "  # parent with higher fitness contributes more\n",
        "  thsPool = np.zeros([nInPool,allZ.shape[1]])\n",
        "\n",
        "  for rr in range(nInPool):\n",
        "    thsParents = np.random.choice(nTrl_, 2, False, thsFitness)\n",
        "    \n",
        "    if thsFitness[thsParents[0]] > thsFitness[thsParents[1]]:\n",
        "      contrib0 = wFitterParent_\n",
        "      contrib1 = 1 - wFitterParent_\n",
        "    elif thsFitness[thsParents[0]] < thsFitness[thsParents[1]]:\n",
        "      contrib0 = 1 - wFitterParent_\n",
        "      contrib1 = wFitterParent_\n",
        "    elif thsFitness[thsParents[0]] == thsFitness[thsParents[1]]:\n",
        "      contrib0 = .5   \n",
        "      contrib1 = .5\n",
        "            \n",
        "    thsPool[rr,:] = allZ[thsParents[0],:] * contrib0 + allZ[thsParents[1],:] * contrib1\n",
        "\n",
        "  # each latent dimension of children in recombined pool has some probability of mutation\n",
        "  toEdit = np.random.choice([0, 1], (nInPool,thsPool.shape[1]), True, [1-mutP, mutP]) # mutP global\n",
        "  thsEdits = np.random.randn(np.sum(toEdit)) * mutAmp # mutAmp global \n",
        "  thsPool[np.nonzero(toEdit)] = thsPool[np.nonzero(toEdit)] + thsEdits\n",
        "        \n",
        "  # add some random faces to the mix\n",
        "  thsRnd = np.random.randn(nRnd_, 512)\n",
        "    \n",
        "  # combine direct survivals and recombined / mutated pool\n",
        "  allZ = np.concatenate((thsSurv, thsPool, thsRnd),axis=0)\n",
        "  # shuffle order of trials\n",
        "  np.random.shuffle(allZ)\n",
        "  return allZ"
      ],
      "execution_count": 19,
      "outputs": []
    },
    {
      "cell_type": "code",
      "metadata": {
        "id": "DbpF8rtA_ecz"
      },
      "source": [
        "# genetic algorithm\n",
        "nGen = 2\n",
        "nTrl = 3\n",
        "nSurv = 1 # number of best samples that survives the grading process (and prob goes to next generation)\n",
        "nRnd = 1\n",
        "nInPool = nTrl-nSurv-nRnd\n",
        "wFitterParent = .75\n",
        "mutAmp = .4\n",
        "mutP = .3"
      ],
      "execution_count": null,
      "outputs": []
    },
    {
      "cell_type": "code",
      "metadata": {
        "id": "NDsdiOCcthHu"
      },
      "source": [
        "basePth = '/content/'\n",
        "imPth = basePth + 'stimuli/images/'\n",
        "seed = 1\n",
        "rnd = np.random.RandomState(seed)"
      ],
      "execution_count": null,
      "outputs": []
    },
    {
      "cell_type": "code",
      "metadata": {
        "colab": {
          "base_uri": "https://localhost:8080/",
          "height": 285,
          "referenced_widgets": [
            "f88df08a8321407bb4d84f848c381d51",
            "4d8ae3e396b14a14aadc8e80cce372d1",
            "c65115114c5845e0be47efe0aa3a66f5",
            "81fa0fccecf549eb990e07ee498ea9d4",
            "9c8835a36b3d469c93e047bc09d594f1",
            "97d8e11665c14257b34eb36f192c6d68",
            "8c9e4275ad194703ae0e27d9052858ba",
            "8b9e1c2611f24cf7ba59ec5288339ee8"
          ]
        },
        "id": "Xd5J7NGpu1Xo",
        "outputId": "a1cf49e1-30f0-41e4-8aba-bd5ba8e20697"
      },
      "source": [
        "# create and rate generation 0\n",
        "runOneGeneration(nTrl, nSurv, nRnd, 0, imPth, noise_vars, Gs, Gs_kwargs, allZ_= None, num_of_gen_to_run=3, wFitterParent_=wFitterParent, basePth_=basePth)"
      ],
      "execution_count": 65,
      "outputs": [
        {
          "output_type": "stream",
          "text": [
            "Generation 0\n",
            "Generating image for trial 0 ...\n",
            "Generating image for trial 1 ...\n",
            "Generating image for trial 2 ...\n"
          ],
          "name": "stdout"
        },
        {
          "output_type": "display_data",
          "data": {
            "application/vnd.jupyter.widget-view+json": {
              "model_id": "f88df08a8321407bb4d84f848c381d51",
              "version_minor": 0,
              "version_major": 2
            },
            "text/plain": [
              "Button(description='Start!', style=ButtonStyle())"
            ]
          },
          "metadata": {
            "tags": []
          }
        },
        {
          "output_type": "display_data",
          "data": {
            "application/vnd.jupyter.widget-view+json": {
              "model_id": "81fa0fccecf549eb990e07ee498ea9d4",
              "version_minor": 0,
              "version_major": 2
            },
            "text/plain": [
              "IntSlider(value=5, max=9)"
            ]
          },
          "metadata": {
            "tags": []
          }
        },
        {
          "output_type": "display_data",
          "data": {
            "application/vnd.jupyter.widget-view+json": {
              "model_id": "8c9e4275ad194703ae0e27d9052858ba",
              "version_minor": 0,
              "version_major": 2
            },
            "text/plain": [
              "Output()"
            ]
          },
          "metadata": {
            "tags": []
          }
        }
      ]
    },
    {
      "cell_type": "code",
      "metadata": {
        "id": "LslPO1cyu1Ro"
      },
      "source": [
        "allZ_next_gen = evaluateOneGeneration(nTrl, nSurv, nRnd, 0, wFitterParent, basePth, allZ, ratings)"
      ],
      "execution_count": 20,
      "outputs": []
    },
    {
      "cell_type": "code",
      "metadata": {
        "colab": {
          "base_uri": "https://localhost:8080/",
          "height": 166,
          "referenced_widgets": [
            "ebb1b28f054444d28a456ef4c66b75b5",
            "ca3603e8dafd477cb05747e0772e4d36",
            "c441f52b7fcd4680aecd8ef0acc4162e",
            "ad6ab4c1278d4d0fb47e60223b630eba",
            "6c30babb157845f9b91a483579761edd",
            "d0226da3ae554631a251967b1e344684",
            "7c9b4ee1f977482c971446cc23d3ce91",
            "2652ed29c367436c877a20ada1a90a5f"
          ]
        },
        "id": "PxPfj-sN6h9S",
        "outputId": "63926d0f-d054-4ef1-a9b7-1ac29d073f08"
      },
      "source": [
        "runOneGeneration(nTrl, nSurv, nRnd, 1, imPth, noise_vars, Gs, Gs_kwargs, allZ_= allZ_next_gen)"
      ],
      "execution_count": 21,
      "outputs": [
        {
          "output_type": "stream",
          "text": [
            "Generation 0\n",
            "Generating image for trial 0 ...\n",
            "Generating image for trial 1 ...\n",
            "Generating image for trial 2 ...\n"
          ],
          "name": "stdout"
        },
        {
          "output_type": "display_data",
          "data": {
            "application/vnd.jupyter.widget-view+json": {
              "model_id": "ebb1b28f054444d28a456ef4c66b75b5",
              "version_minor": 0,
              "version_major": 2
            },
            "text/plain": [
              "Button(description='Start!', style=ButtonStyle())"
            ]
          },
          "metadata": {
            "tags": []
          }
        },
        {
          "output_type": "display_data",
          "data": {
            "application/vnd.jupyter.widget-view+json": {
              "model_id": "ad6ab4c1278d4d0fb47e60223b630eba",
              "version_minor": 0,
              "version_major": 2
            },
            "text/plain": [
              "IntSlider(value=5, max=9)"
            ]
          },
          "metadata": {
            "tags": []
          }
        },
        {
          "output_type": "display_data",
          "data": {
            "application/vnd.jupyter.widget-view+json": {
              "model_id": "7c9b4ee1f977482c971446cc23d3ce91",
              "version_minor": 0,
              "version_major": 2
            },
            "text/plain": [
              "Output()"
            ]
          },
          "metadata": {
            "tags": []
          }
        }
      ]
    },
    {
      "cell_type": "markdown",
      "metadata": {
        "id": "4S6bi9RU06o5"
      },
      "source": [
        "# New section"
      ]
    }
  ]
}